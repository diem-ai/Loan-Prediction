{
  "nbformat": 4,
  "nbformat_minor": 0,
  "metadata": {
    "colab": {
      "name": "loan_prediction.ipynb",
      "version": "0.3.2",
      "provenance": [],
      "collapsed_sections": [],
      "include_colab_link": true
    },
    "kernelspec": {
      "name": "python3",
      "display_name": "Python 3"
    },
    "accelerator": "GPU"
  },
  "cells": [
    {
      "cell_type": "markdown",
      "metadata": {
        "id": "view-in-github",
        "colab_type": "text"
      },
      "source": [
        "<a href=\"https://colab.research.google.com/github/diem-ai/loan-prediction/blob/master/loan_prediction.ipynb\" target=\"_parent\"><img src=\"https://colab.research.google.com/assets/colab-badge.svg\" alt=\"Open In Colab\"/></a>"
      ]
    },
    {
      "cell_type": "markdown",
      "metadata": {
        "id": "KPUBWvdtcrm7",
        "colab_type": "text"
      },
      "source": [
        "**Google Drive setup on Colab**"
      ]
    },
    {
      "cell_type": "code",
      "metadata": {
        "id": "wnUNSqEkyBOc",
        "colab_type": "code",
        "outputId": "8a5f9fd3-1946-4a11-eb75-be48e45f8be2",
        "colab": {
          "base_uri": "https://localhost:8080/",
          "height": 494
        }
      },
      "source": [
        "from google.colab import drive\n",
        "\n",
        "drive.mount('/content/drive')\n",
        "\n",
        "import sys\n",
        "\n",
        "# To add a directory with your code into a list of directories \n",
        "# which will be searched for packages\n",
        "#sys.path.append('/content/drive/My Drive/Colab Notebooks')\n",
        "\n",
        "!pip install PyDrive\n",
        "\n",
        "from pydrive.auth import GoogleAuth\n",
        "from pydrive.drive import GoogleDrive\n",
        "from google.colab import auth\n",
        "from oauth2client.client import GoogleCredentials\n",
        "\n",
        "auth.authenticate_user()\n",
        "gauth = GoogleAuth()\n",
        "gauth.credentials = GoogleCredentials.get_application_default()\n",
        "drive = GoogleDrive(gauth)\n",
        "\n"
      ],
      "execution_count": 1,
      "outputs": [
        {
          "output_type": "stream",
          "text": [
            "Go to this URL in a browser: https://accounts.google.com/o/oauth2/auth?client_id=947318989803-6bn6qk8qdgf4n4g3pfee6491hc0brc4i.apps.googleusercontent.com&redirect_uri=urn%3Aietf%3Awg%3Aoauth%3A2.0%3Aoob&scope=email%20https%3A%2F%2Fwww.googleapis.com%2Fauth%2Fdocs.test%20https%3A%2F%2Fwww.googleapis.com%2Fauth%2Fdrive%20https%3A%2F%2Fwww.googleapis.com%2Fauth%2Fdrive.photos.readonly%20https%3A%2F%2Fwww.googleapis.com%2Fauth%2Fpeopleapi.readonly&response_type=code\n",
            "\n",
            "Enter your authorization code:\n",
            "··········\n",
            "Mounted at /content/drive\n",
            "Collecting PyDrive\n",
            "\u001b[?25l  Downloading https://files.pythonhosted.org/packages/52/e0/0e64788e5dd58ce2d6934549676243dc69d982f198524be9b99e9c2a4fd5/PyDrive-1.3.1.tar.gz (987kB)\n",
            "\u001b[K     |████████████████████████████████| 993kB 3.5MB/s \n",
            "\u001b[?25hRequirement already satisfied: google-api-python-client>=1.2 in /usr/local/lib/python3.6/dist-packages (from PyDrive) (1.7.9)\n",
            "Requirement already satisfied: oauth2client>=4.0.0 in /usr/local/lib/python3.6/dist-packages (from PyDrive) (4.1.3)\n",
            "Requirement already satisfied: PyYAML>=3.0 in /usr/local/lib/python3.6/dist-packages (from PyDrive) (3.13)\n",
            "Requirement already satisfied: six<2dev,>=1.6.1 in /usr/local/lib/python3.6/dist-packages (from google-api-python-client>=1.2->PyDrive) (1.12.0)\n",
            "Requirement already satisfied: google-auth-httplib2>=0.0.3 in /usr/local/lib/python3.6/dist-packages (from google-api-python-client>=1.2->PyDrive) (0.0.3)\n",
            "Requirement already satisfied: uritemplate<4dev,>=3.0.0 in /usr/local/lib/python3.6/dist-packages (from google-api-python-client>=1.2->PyDrive) (3.0.0)\n",
            "Requirement already satisfied: google-auth>=1.4.1 in /usr/local/lib/python3.6/dist-packages (from google-api-python-client>=1.2->PyDrive) (1.4.2)\n",
            "Requirement already satisfied: httplib2<1dev,>=0.9.2 in /usr/local/lib/python3.6/dist-packages (from google-api-python-client>=1.2->PyDrive) (0.11.3)\n",
            "Requirement already satisfied: pyasn1>=0.1.7 in /usr/local/lib/python3.6/dist-packages (from oauth2client>=4.0.0->PyDrive) (0.4.5)\n",
            "Requirement already satisfied: pyasn1-modules>=0.0.5 in /usr/local/lib/python3.6/dist-packages (from oauth2client>=4.0.0->PyDrive) (0.2.5)\n",
            "Requirement already satisfied: rsa>=3.1.4 in /usr/local/lib/python3.6/dist-packages (from oauth2client>=4.0.0->PyDrive) (4.0)\n",
            "Requirement already satisfied: cachetools>=2.0.0 in /usr/local/lib/python3.6/dist-packages (from google-auth>=1.4.1->google-api-python-client>=1.2->PyDrive) (3.1.1)\n",
            "Building wheels for collected packages: PyDrive\n",
            "  Building wheel for PyDrive (setup.py) ... \u001b[?25l\u001b[?25hdone\n",
            "  Stored in directory: /root/.cache/pip/wheels/fa/d2/9a/d3b6b506c2da98289e5d417215ce34b696db856643bad779f4\n",
            "Successfully built PyDrive\n",
            "Installing collected packages: PyDrive\n",
            "Successfully installed PyDrive-1.3.1\n"
          ],
          "name": "stdout"
        }
      ]
    },
    {
      "cell_type": "code",
      "metadata": {
        "id": "jgcUbhtUdbcE",
        "colab_type": "code",
        "colab": {
          "base_uri": "https://localhost:8080/",
          "height": 72
        },
        "outputId": "0071c4d5-3372-4b87-a6f4-37ef90daa46e"
      },
      "source": [
        "import pandas as pd\n",
        "\n",
        "file = '/content/drive/My Drive/data/lending-club-data.zip' # change it if running on local\n",
        "\n",
        "data = pd.read_csv(file)"
      ],
      "execution_count": 2,
      "outputs": [
        {
          "output_type": "stream",
          "text": [
            "/usr/local/lib/python3.6/dist-packages/IPython/core/interactiveshell.py:2718: DtypeWarning: Columns (19,47) have mixed types. Specify dtype option on import or set low_memory=False.\n",
            "  interactivity=interactivity, compiler=compiler, result=result)\n"
          ],
          "name": "stderr"
        }
      ]
    },
    {
      "cell_type": "code",
      "metadata": {
        "id": "f-kiukol4b8V",
        "colab_type": "code",
        "colab": {
          "base_uri": "https://localhost:8080/",
          "height": 200
        },
        "outputId": "d018f83c-acca-41b2-b1cf-7fe2b4f62e50"
      },
      "source": [
        "data.head(1)"
      ],
      "execution_count": 3,
      "outputs": [
        {
          "output_type": "execute_result",
          "data": {
            "text/html": [
              "<div>\n",
              "<style scoped>\n",
              "    .dataframe tbody tr th:only-of-type {\n",
              "        vertical-align: middle;\n",
              "    }\n",
              "\n",
              "    .dataframe tbody tr th {\n",
              "        vertical-align: top;\n",
              "    }\n",
              "\n",
              "    .dataframe thead th {\n",
              "        text-align: right;\n",
              "    }\n",
              "</style>\n",
              "<table border=\"1\" class=\"dataframe\">\n",
              "  <thead>\n",
              "    <tr style=\"text-align: right;\">\n",
              "      <th></th>\n",
              "      <th>id</th>\n",
              "      <th>member_id</th>\n",
              "      <th>loan_amnt</th>\n",
              "      <th>funded_amnt</th>\n",
              "      <th>funded_amnt_inv</th>\n",
              "      <th>term</th>\n",
              "      <th>int_rate</th>\n",
              "      <th>installment</th>\n",
              "      <th>grade</th>\n",
              "      <th>sub_grade</th>\n",
              "      <th>emp_title</th>\n",
              "      <th>emp_length</th>\n",
              "      <th>home_ownership</th>\n",
              "      <th>annual_inc</th>\n",
              "      <th>is_inc_v</th>\n",
              "      <th>issue_d</th>\n",
              "      <th>loan_status</th>\n",
              "      <th>pymnt_plan</th>\n",
              "      <th>url</th>\n",
              "      <th>desc</th>\n",
              "      <th>purpose</th>\n",
              "      <th>title</th>\n",
              "      <th>zip_code</th>\n",
              "      <th>addr_state</th>\n",
              "      <th>dti</th>\n",
              "      <th>delinq_2yrs</th>\n",
              "      <th>earliest_cr_line</th>\n",
              "      <th>inq_last_6mths</th>\n",
              "      <th>mths_since_last_delinq</th>\n",
              "      <th>mths_since_last_record</th>\n",
              "      <th>open_acc</th>\n",
              "      <th>pub_rec</th>\n",
              "      <th>revol_bal</th>\n",
              "      <th>revol_util</th>\n",
              "      <th>total_acc</th>\n",
              "      <th>initial_list_status</th>\n",
              "      <th>out_prncp</th>\n",
              "      <th>out_prncp_inv</th>\n",
              "      <th>total_pymnt</th>\n",
              "      <th>total_pymnt_inv</th>\n",
              "      <th>total_rec_prncp</th>\n",
              "      <th>total_rec_int</th>\n",
              "      <th>total_rec_late_fee</th>\n",
              "      <th>recoveries</th>\n",
              "      <th>collection_recovery_fee</th>\n",
              "      <th>last_pymnt_d</th>\n",
              "      <th>last_pymnt_amnt</th>\n",
              "      <th>next_pymnt_d</th>\n",
              "      <th>last_credit_pull_d</th>\n",
              "      <th>collections_12_mths_ex_med</th>\n",
              "      <th>mths_since_last_major_derog</th>\n",
              "      <th>policy_code</th>\n",
              "      <th>not_compliant</th>\n",
              "      <th>status</th>\n",
              "      <th>inactive_loans</th>\n",
              "      <th>bad_loans</th>\n",
              "      <th>emp_length_num</th>\n",
              "      <th>grade_num</th>\n",
              "      <th>sub_grade_num</th>\n",
              "      <th>delinq_2yrs_zero</th>\n",
              "      <th>pub_rec_zero</th>\n",
              "      <th>collections_12_mths_zero</th>\n",
              "      <th>short_emp</th>\n",
              "      <th>payment_inc_ratio</th>\n",
              "      <th>final_d</th>\n",
              "      <th>last_delinq_none</th>\n",
              "      <th>last_record_none</th>\n",
              "      <th>last_major_derog_none</th>\n",
              "    </tr>\n",
              "  </thead>\n",
              "  <tbody>\n",
              "    <tr>\n",
              "      <th>0</th>\n",
              "      <td>1077501</td>\n",
              "      <td>1296599</td>\n",
              "      <td>5000</td>\n",
              "      <td>5000</td>\n",
              "      <td>4975</td>\n",
              "      <td>36 months</td>\n",
              "      <td>10.65</td>\n",
              "      <td>162.87</td>\n",
              "      <td>B</td>\n",
              "      <td>B2</td>\n",
              "      <td>NaN</td>\n",
              "      <td>10+ years</td>\n",
              "      <td>RENT</td>\n",
              "      <td>24000.0</td>\n",
              "      <td>Verified</td>\n",
              "      <td>20111201T000000</td>\n",
              "      <td>Fully Paid</td>\n",
              "      <td>n</td>\n",
              "      <td>https://www.lendingclub.com/browse/loanDetail....</td>\n",
              "      <td>Borrower added on 12/22/11 &gt; I need to upgra...</td>\n",
              "      <td>credit_card</td>\n",
              "      <td>Computer</td>\n",
              "      <td>860xx</td>\n",
              "      <td>AZ</td>\n",
              "      <td>27.65</td>\n",
              "      <td>0.0</td>\n",
              "      <td>19850101T000000</td>\n",
              "      <td>1.0</td>\n",
              "      <td>NaN</td>\n",
              "      <td>NaN</td>\n",
              "      <td>3.0</td>\n",
              "      <td>0.0</td>\n",
              "      <td>13648</td>\n",
              "      <td>83.7</td>\n",
              "      <td>9.0</td>\n",
              "      <td>f</td>\n",
              "      <td>0.0</td>\n",
              "      <td>0.0</td>\n",
              "      <td>5861.07</td>\n",
              "      <td>5831.78</td>\n",
              "      <td>5000.0</td>\n",
              "      <td>861.07</td>\n",
              "      <td>0.0</td>\n",
              "      <td>0.0</td>\n",
              "      <td>0.0</td>\n",
              "      <td>20150101T000000</td>\n",
              "      <td>171.62</td>\n",
              "      <td>NaN</td>\n",
              "      <td>20150101T000000</td>\n",
              "      <td>0.0</td>\n",
              "      <td>NaN</td>\n",
              "      <td>1</td>\n",
              "      <td>0</td>\n",
              "      <td>Fully Paid</td>\n",
              "      <td>1</td>\n",
              "      <td>0</td>\n",
              "      <td>11</td>\n",
              "      <td>5</td>\n",
              "      <td>0.4</td>\n",
              "      <td>1.0</td>\n",
              "      <td>1.0</td>\n",
              "      <td>1.0</td>\n",
              "      <td>0</td>\n",
              "      <td>8.1435</td>\n",
              "      <td>20141201T000000</td>\n",
              "      <td>1</td>\n",
              "      <td>1</td>\n",
              "      <td>1</td>\n",
              "    </tr>\n",
              "  </tbody>\n",
              "</table>\n",
              "</div>"
            ],
            "text/plain": [
              "        id  member_id  ...  last_record_none  last_major_derog_none\n",
              "0  1077501    1296599  ...                 1                      1\n",
              "\n",
              "[1 rows x 68 columns]"
            ]
          },
          "metadata": {
            "tags": []
          },
          "execution_count": 3
        }
      ]
    },
    {
      "cell_type": "code",
      "metadata": {
        "id": "QnUiZorMfthI",
        "colab_type": "code",
        "colab": {
          "base_uri": "https://localhost:8080/",
          "height": 333
        },
        "outputId": "45490e3e-bff1-480f-ea57-9ea5fef3d2a0"
      },
      "source": [
        "data.columns"
      ],
      "execution_count": 4,
      "outputs": [
        {
          "output_type": "execute_result",
          "data": {
            "text/plain": [
              "Index(['id', 'member_id', 'loan_amnt', 'funded_amnt', 'funded_amnt_inv',\n",
              "       'term', 'int_rate', 'installment', 'grade', 'sub_grade', 'emp_title',\n",
              "       'emp_length', 'home_ownership', 'annual_inc', 'is_inc_v', 'issue_d',\n",
              "       'loan_status', 'pymnt_plan', 'url', 'desc', 'purpose', 'title',\n",
              "       'zip_code', 'addr_state', 'dti', 'delinq_2yrs', 'earliest_cr_line',\n",
              "       'inq_last_6mths', 'mths_since_last_delinq', 'mths_since_last_record',\n",
              "       'open_acc', 'pub_rec', 'revol_bal', 'revol_util', 'total_acc',\n",
              "       'initial_list_status', 'out_prncp', 'out_prncp_inv', 'total_pymnt',\n",
              "       'total_pymnt_inv', 'total_rec_prncp', 'total_rec_int',\n",
              "       'total_rec_late_fee', 'recoveries', 'collection_recovery_fee',\n",
              "       'last_pymnt_d', 'last_pymnt_amnt', 'next_pymnt_d', 'last_credit_pull_d',\n",
              "       'collections_12_mths_ex_med', 'mths_since_last_major_derog',\n",
              "       'policy_code', 'not_compliant', 'status', 'inactive_loans', 'bad_loans',\n",
              "       'emp_length_num', 'grade_num', 'sub_grade_num', 'delinq_2yrs_zero',\n",
              "       'pub_rec_zero', 'collections_12_mths_zero', 'short_emp',\n",
              "       'payment_inc_ratio', 'final_d', 'last_delinq_none', 'last_record_none',\n",
              "       'last_major_derog_none'],\n",
              "      dtype='object')"
            ]
          },
          "metadata": {
            "tags": []
          },
          "execution_count": 4
        }
      ]
    },
    {
      "cell_type": "code",
      "metadata": {
        "id": "V46HWHITgDUu",
        "colab_type": "code",
        "colab": {
          "base_uri": "https://localhost:8080/",
          "height": 1000
        },
        "outputId": "6ae5eb17-5421-49db-f17e-54ab5ed3d140"
      },
      "source": [
        "data.dtypes"
      ],
      "execution_count": 5,
      "outputs": [
        {
          "output_type": "execute_result",
          "data": {
            "text/plain": [
              "id                               int64\n",
              "member_id                        int64\n",
              "loan_amnt                        int64\n",
              "funded_amnt                      int64\n",
              "funded_amnt_inv                  int64\n",
              "term                            object\n",
              "int_rate                       float64\n",
              "installment                    float64\n",
              "grade                           object\n",
              "sub_grade                       object\n",
              "emp_title                       object\n",
              "emp_length                      object\n",
              "home_ownership                  object\n",
              "annual_inc                     float64\n",
              "is_inc_v                        object\n",
              "issue_d                         object\n",
              "loan_status                     object\n",
              "pymnt_plan                      object\n",
              "url                             object\n",
              "desc                            object\n",
              "purpose                         object\n",
              "title                           object\n",
              "zip_code                        object\n",
              "addr_state                      object\n",
              "dti                            float64\n",
              "delinq_2yrs                    float64\n",
              "earliest_cr_line                object\n",
              "inq_last_6mths                 float64\n",
              "mths_since_last_delinq         float64\n",
              "mths_since_last_record         float64\n",
              "                                ...   \n",
              "total_pymnt                    float64\n",
              "total_pymnt_inv                float64\n",
              "total_rec_prncp                float64\n",
              "total_rec_int                  float64\n",
              "total_rec_late_fee             float64\n",
              "recoveries                     float64\n",
              "collection_recovery_fee        float64\n",
              "last_pymnt_d                    object\n",
              "last_pymnt_amnt                float64\n",
              "next_pymnt_d                    object\n",
              "last_credit_pull_d              object\n",
              "collections_12_mths_ex_med     float64\n",
              "mths_since_last_major_derog    float64\n",
              "policy_code                      int64\n",
              "not_compliant                    int64\n",
              "status                          object\n",
              "inactive_loans                   int64\n",
              "bad_loans                        int64\n",
              "emp_length_num                   int64\n",
              "grade_num                        int64\n",
              "sub_grade_num                  float64\n",
              "delinq_2yrs_zero               float64\n",
              "pub_rec_zero                   float64\n",
              "collections_12_mths_zero       float64\n",
              "short_emp                        int64\n",
              "payment_inc_ratio              float64\n",
              "final_d                         object\n",
              "last_delinq_none                 int64\n",
              "last_record_none                 int64\n",
              "last_major_derog_none            int64\n",
              "Length: 68, dtype: object"
            ]
          },
          "metadata": {
            "tags": []
          },
          "execution_count": 5
        }
      ]
    },
    {
      "cell_type": "markdown",
      "metadata": {
        "id": "qAquhv_Cidd-",
        "colab_type": "text"
      },
      "source": [
        "**Exploring the target column**\n",
        "\n",
        "The target column (label column) of the dataset that we are interested in is called bad_loans. In this column 1 means a risky (bad) loan 0 means a safe loan. we reassign the target to be:\n",
        "\n",
        "+1 as a safe loan\n",
        "\n",
        "-1 as a risky (bad) loan"
      ]
    },
    {
      "cell_type": "code",
      "metadata": {
        "id": "naHXFeQ7iTiY",
        "colab_type": "code",
        "colab": {
          "base_uri": "https://localhost:8080/",
          "height": 70
        },
        "outputId": "5763e2ae-f35b-48ec-b827-8866d7f3dc99"
      },
      "source": [
        "data['bad_loans'].value_counts()"
      ],
      "execution_count": 6,
      "outputs": [
        {
          "output_type": "execute_result",
          "data": {
            "text/plain": [
              "0    99457\n",
              "1    23150\n",
              "Name: bad_loans, dtype: int64"
            ]
          },
          "metadata": {
            "tags": []
          },
          "execution_count": 6
        }
      ]
    },
    {
      "cell_type": "code",
      "metadata": {
        "id": "dgM4d3lqFcSI",
        "colab_type": "code",
        "colab": {
          "base_uri": "https://localhost:8080/",
          "height": 200
        },
        "outputId": "86d8717a-25d1-462a-96df-e0a607f59852"
      },
      "source": [
        "data['safe_loan'] =  data['bad_loans'].apply(lambda x : 1 if x==0 else -1)\n",
        "data.drop(columns=['bad_loans'], axis=1)\n",
        "\n",
        "data.head(1)"
      ],
      "execution_count": 7,
      "outputs": [
        {
          "output_type": "execute_result",
          "data": {
            "text/html": [
              "<div>\n",
              "<style scoped>\n",
              "    .dataframe tbody tr th:only-of-type {\n",
              "        vertical-align: middle;\n",
              "    }\n",
              "\n",
              "    .dataframe tbody tr th {\n",
              "        vertical-align: top;\n",
              "    }\n",
              "\n",
              "    .dataframe thead th {\n",
              "        text-align: right;\n",
              "    }\n",
              "</style>\n",
              "<table border=\"1\" class=\"dataframe\">\n",
              "  <thead>\n",
              "    <tr style=\"text-align: right;\">\n",
              "      <th></th>\n",
              "      <th>id</th>\n",
              "      <th>member_id</th>\n",
              "      <th>loan_amnt</th>\n",
              "      <th>funded_amnt</th>\n",
              "      <th>funded_amnt_inv</th>\n",
              "      <th>term</th>\n",
              "      <th>int_rate</th>\n",
              "      <th>installment</th>\n",
              "      <th>grade</th>\n",
              "      <th>sub_grade</th>\n",
              "      <th>emp_title</th>\n",
              "      <th>emp_length</th>\n",
              "      <th>home_ownership</th>\n",
              "      <th>annual_inc</th>\n",
              "      <th>is_inc_v</th>\n",
              "      <th>issue_d</th>\n",
              "      <th>loan_status</th>\n",
              "      <th>pymnt_plan</th>\n",
              "      <th>url</th>\n",
              "      <th>desc</th>\n",
              "      <th>purpose</th>\n",
              "      <th>title</th>\n",
              "      <th>zip_code</th>\n",
              "      <th>addr_state</th>\n",
              "      <th>dti</th>\n",
              "      <th>delinq_2yrs</th>\n",
              "      <th>earliest_cr_line</th>\n",
              "      <th>inq_last_6mths</th>\n",
              "      <th>mths_since_last_delinq</th>\n",
              "      <th>mths_since_last_record</th>\n",
              "      <th>open_acc</th>\n",
              "      <th>pub_rec</th>\n",
              "      <th>revol_bal</th>\n",
              "      <th>revol_util</th>\n",
              "      <th>total_acc</th>\n",
              "      <th>initial_list_status</th>\n",
              "      <th>out_prncp</th>\n",
              "      <th>out_prncp_inv</th>\n",
              "      <th>total_pymnt</th>\n",
              "      <th>total_pymnt_inv</th>\n",
              "      <th>total_rec_prncp</th>\n",
              "      <th>total_rec_int</th>\n",
              "      <th>total_rec_late_fee</th>\n",
              "      <th>recoveries</th>\n",
              "      <th>collection_recovery_fee</th>\n",
              "      <th>last_pymnt_d</th>\n",
              "      <th>last_pymnt_amnt</th>\n",
              "      <th>next_pymnt_d</th>\n",
              "      <th>last_credit_pull_d</th>\n",
              "      <th>collections_12_mths_ex_med</th>\n",
              "      <th>mths_since_last_major_derog</th>\n",
              "      <th>policy_code</th>\n",
              "      <th>not_compliant</th>\n",
              "      <th>status</th>\n",
              "      <th>inactive_loans</th>\n",
              "      <th>bad_loans</th>\n",
              "      <th>emp_length_num</th>\n",
              "      <th>grade_num</th>\n",
              "      <th>sub_grade_num</th>\n",
              "      <th>delinq_2yrs_zero</th>\n",
              "      <th>pub_rec_zero</th>\n",
              "      <th>collections_12_mths_zero</th>\n",
              "      <th>short_emp</th>\n",
              "      <th>payment_inc_ratio</th>\n",
              "      <th>final_d</th>\n",
              "      <th>last_delinq_none</th>\n",
              "      <th>last_record_none</th>\n",
              "      <th>last_major_derog_none</th>\n",
              "      <th>safe_loan</th>\n",
              "    </tr>\n",
              "  </thead>\n",
              "  <tbody>\n",
              "    <tr>\n",
              "      <th>0</th>\n",
              "      <td>1077501</td>\n",
              "      <td>1296599</td>\n",
              "      <td>5000</td>\n",
              "      <td>5000</td>\n",
              "      <td>4975</td>\n",
              "      <td>36 months</td>\n",
              "      <td>10.65</td>\n",
              "      <td>162.87</td>\n",
              "      <td>B</td>\n",
              "      <td>B2</td>\n",
              "      <td>NaN</td>\n",
              "      <td>10+ years</td>\n",
              "      <td>RENT</td>\n",
              "      <td>24000.0</td>\n",
              "      <td>Verified</td>\n",
              "      <td>20111201T000000</td>\n",
              "      <td>Fully Paid</td>\n",
              "      <td>n</td>\n",
              "      <td>https://www.lendingclub.com/browse/loanDetail....</td>\n",
              "      <td>Borrower added on 12/22/11 &gt; I need to upgra...</td>\n",
              "      <td>credit_card</td>\n",
              "      <td>Computer</td>\n",
              "      <td>860xx</td>\n",
              "      <td>AZ</td>\n",
              "      <td>27.65</td>\n",
              "      <td>0.0</td>\n",
              "      <td>19850101T000000</td>\n",
              "      <td>1.0</td>\n",
              "      <td>NaN</td>\n",
              "      <td>NaN</td>\n",
              "      <td>3.0</td>\n",
              "      <td>0.0</td>\n",
              "      <td>13648</td>\n",
              "      <td>83.7</td>\n",
              "      <td>9.0</td>\n",
              "      <td>f</td>\n",
              "      <td>0.0</td>\n",
              "      <td>0.0</td>\n",
              "      <td>5861.07</td>\n",
              "      <td>5831.78</td>\n",
              "      <td>5000.0</td>\n",
              "      <td>861.07</td>\n",
              "      <td>0.0</td>\n",
              "      <td>0.0</td>\n",
              "      <td>0.0</td>\n",
              "      <td>20150101T000000</td>\n",
              "      <td>171.62</td>\n",
              "      <td>NaN</td>\n",
              "      <td>20150101T000000</td>\n",
              "      <td>0.0</td>\n",
              "      <td>NaN</td>\n",
              "      <td>1</td>\n",
              "      <td>0</td>\n",
              "      <td>Fully Paid</td>\n",
              "      <td>1</td>\n",
              "      <td>0</td>\n",
              "      <td>11</td>\n",
              "      <td>5</td>\n",
              "      <td>0.4</td>\n",
              "      <td>1.0</td>\n",
              "      <td>1.0</td>\n",
              "      <td>1.0</td>\n",
              "      <td>0</td>\n",
              "      <td>8.1435</td>\n",
              "      <td>20141201T000000</td>\n",
              "      <td>1</td>\n",
              "      <td>1</td>\n",
              "      <td>1</td>\n",
              "      <td>1</td>\n",
              "    </tr>\n",
              "  </tbody>\n",
              "</table>\n",
              "</div>"
            ],
            "text/plain": [
              "        id  member_id  ...  last_major_derog_none  safe_loan\n",
              "0  1077501    1296599  ...                      1          1\n",
              "\n",
              "[1 rows x 69 columns]"
            ]
          },
          "metadata": {
            "tags": []
          },
          "execution_count": 7
        }
      ]
    },
    {
      "cell_type": "markdown",
      "metadata": {
        "id": "QB95JrDjAphy",
        "colab_type": "text"
      },
      "source": [
        ".Now, let us explore the distribution of the column safe_loans. This gives us a sense of how many safe and risky loans are present in the dataset. Print out the percentage of safe loans and risky loans in the data frame."
      ]
    },
    {
      "cell_type": "code",
      "metadata": {
        "id": "WahlMQL3Hj1p",
        "colab_type": "code",
        "colab": {
          "base_uri": "https://localhost:8080/",
          "height": 34
        },
        "outputId": "b4b1ce1c-b1d2-4e78-f378-7a43d799b688"
      },
      "source": [
        "len(data[data['safe_loan'] == 1])/len(data)*100"
      ],
      "execution_count": 8,
      "outputs": [
        {
          "output_type": "execute_result",
          "data": {
            "text/plain": [
              "81.11853319957262"
            ]
          },
          "metadata": {
            "tags": []
          },
          "execution_count": 8
        }
      ]
    },
    {
      "cell_type": "code",
      "metadata": {
        "id": "WiRgJt58IB1b",
        "colab_type": "code",
        "colab": {
          "base_uri": "https://localhost:8080/",
          "height": 34
        },
        "outputId": "9aed6411-5071-4096-fefe-b3db98df6d00"
      },
      "source": [
        "len(data[data['safe_loan'] == -1])/len(data)*100"
      ],
      "execution_count": 9,
      "outputs": [
        {
          "output_type": "execute_result",
          "data": {
            "text/plain": [
              "18.881466800427383"
            ]
          },
          "metadata": {
            "tags": []
          },
          "execution_count": 9
        }
      ]
    },
    {
      "cell_type": "markdown",
      "metadata": {
        "id": "PuKAqMliIPc4",
        "colab_type": "text"
      },
      "source": [
        "We have:\n",
        "\n",
        "- Around 81% safe loans\n",
        "- Around 19% risky loans\n",
        "\n",
        "It looks like most of these loans are safe loans (thankfully). But this does make our problem of identifying risky loans challenging."
      ]
    },
    {
      "cell_type": "markdown",
      "metadata": {
        "id": "11yrDUDfI16g",
        "colab_type": "text"
      },
      "source": [
        "**Features for the classification algorithm**"
      ]
    },
    {
      "cell_type": "code",
      "metadata": {
        "id": "38fJdGuOIZQt",
        "colab_type": "code",
        "colab": {
          "base_uri": "https://localhost:8080/",
          "height": 162
        },
        "outputId": "3c04b21b-d2a5-4fd2-ce6e-20643fcb1e7e"
      },
      "source": [
        "features = ['grade',                     # grade of the loan\n",
        "            'sub_grade',                 # sub-grade of the loan\n",
        "            'short_emp',                 # one year or less of employment\n",
        "            'emp_length_num',            # number of years of employment\n",
        "            'home_ownership',            # home_ownership status: own, mortgage or rent\n",
        "            'dti',                       # debt to income ratio\n",
        "            'purpose',                   # the purpose of the loan\n",
        "            'term',                      # the term of the loan\n",
        "            'last_delinq_none',          # has borrower had a delinquincy\n",
        "            'last_major_derog_none',     # has borrower had 90 day or worse rating\n",
        "            'revol_util',                # percent of available credit being used\n",
        "            'total_rec_late_fee',        # total late fees received to day\n",
        "           ]\n",
        "\n",
        "target = 'safe_loan'                   # prediction target (y) (+1 means safe, -1 is risky)\n",
        "\n",
        "# Extract the feature columns and target column\n",
        "loans = data[features + [target]]\n",
        "\n",
        "loans.head(2)"
      ],
      "execution_count": 10,
      "outputs": [
        {
          "output_type": "execute_result",
          "data": {
            "text/html": [
              "<div>\n",
              "<style scoped>\n",
              "    .dataframe tbody tr th:only-of-type {\n",
              "        vertical-align: middle;\n",
              "    }\n",
              "\n",
              "    .dataframe tbody tr th {\n",
              "        vertical-align: top;\n",
              "    }\n",
              "\n",
              "    .dataframe thead th {\n",
              "        text-align: right;\n",
              "    }\n",
              "</style>\n",
              "<table border=\"1\" class=\"dataframe\">\n",
              "  <thead>\n",
              "    <tr style=\"text-align: right;\">\n",
              "      <th></th>\n",
              "      <th>grade</th>\n",
              "      <th>sub_grade</th>\n",
              "      <th>short_emp</th>\n",
              "      <th>emp_length_num</th>\n",
              "      <th>home_ownership</th>\n",
              "      <th>dti</th>\n",
              "      <th>purpose</th>\n",
              "      <th>term</th>\n",
              "      <th>last_delinq_none</th>\n",
              "      <th>last_major_derog_none</th>\n",
              "      <th>revol_util</th>\n",
              "      <th>total_rec_late_fee</th>\n",
              "      <th>safe_loan</th>\n",
              "    </tr>\n",
              "  </thead>\n",
              "  <tbody>\n",
              "    <tr>\n",
              "      <th>0</th>\n",
              "      <td>B</td>\n",
              "      <td>B2</td>\n",
              "      <td>0</td>\n",
              "      <td>11</td>\n",
              "      <td>RENT</td>\n",
              "      <td>27.65</td>\n",
              "      <td>credit_card</td>\n",
              "      <td>36 months</td>\n",
              "      <td>1</td>\n",
              "      <td>1</td>\n",
              "      <td>83.7</td>\n",
              "      <td>0.0</td>\n",
              "      <td>1</td>\n",
              "    </tr>\n",
              "    <tr>\n",
              "      <th>1</th>\n",
              "      <td>C</td>\n",
              "      <td>C4</td>\n",
              "      <td>1</td>\n",
              "      <td>1</td>\n",
              "      <td>RENT</td>\n",
              "      <td>1.00</td>\n",
              "      <td>car</td>\n",
              "      <td>60 months</td>\n",
              "      <td>1</td>\n",
              "      <td>1</td>\n",
              "      <td>9.4</td>\n",
              "      <td>0.0</td>\n",
              "      <td>-1</td>\n",
              "    </tr>\n",
              "  </tbody>\n",
              "</table>\n",
              "</div>"
            ],
            "text/plain": [
              "  grade sub_grade  short_emp  ...  revol_util total_rec_late_fee  safe_loan\n",
              "0     B        B2          0  ...        83.7                0.0          1\n",
              "1     C        C4          1  ...         9.4                0.0         -1\n",
              "\n",
              "[2 rows x 13 columns]"
            ]
          },
          "metadata": {
            "tags": []
          },
          "execution_count": 10
        }
      ]
    },
    {
      "cell_type": "code",
      "metadata": {
        "id": "Vs-Ly-M-A36y",
        "colab_type": "code",
        "colab": {
          "base_uri": "https://localhost:8080/",
          "height": 34
        },
        "outputId": "12fffcd9-4e4d-436d-af58-942204ec8a34"
      },
      "source": [
        "categorical_cols = loans.dtypes[loans.dtypes == 'object'].index\n",
        "\n",
        "categorical_cols"
      ],
      "execution_count": 11,
      "outputs": [
        {
          "output_type": "execute_result",
          "data": {
            "text/plain": [
              "Index(['grade', 'sub_grade', 'home_ownership', 'purpose', 'term'], dtype='object')"
            ]
          },
          "metadata": {
            "tags": []
          },
          "execution_count": 11
        }
      ]
    },
    {
      "cell_type": "markdown",
      "metadata": {
        "id": "hArqizwDJ6qQ",
        "colab_type": "text"
      },
      "source": [
        "We have 5 columns with categorical values. We have to turn those values into numeric values using one-hot encoding"
      ]
    },
    {
      "cell_type": "code",
      "metadata": {
        "id": "AQ2-1TrsRiFG",
        "colab_type": "code",
        "colab": {
          "base_uri": "https://localhost:8080/",
          "height": 122
        },
        "outputId": "9fbae766-7ce4-4aea-d877-65e80c85a694"
      },
      "source": [
        "#loans[categorical_cols]\n",
        "from sklearn.preprocessing import LabelEncoder\n",
        "\n",
        "for cate_col in categorical_cols:\n",
        "  \n",
        "  le = LabelEncoder()\n",
        "  #new_col = cate_col + \"_le\"\n",
        "  loans[cate_col] =  le.fit_transform(loans[cate_col])\n",
        "\n",
        "  \n",
        "  "
      ],
      "execution_count": 12,
      "outputs": [
        {
          "output_type": "stream",
          "text": [
            "/usr/local/lib/python3.6/dist-packages/ipykernel_launcher.py:7: SettingWithCopyWarning: \n",
            "A value is trying to be set on a copy of a slice from a DataFrame.\n",
            "Try using .loc[row_indexer,col_indexer] = value instead\n",
            "\n",
            "See the caveats in the documentation: http://pandas.pydata.org/pandas-docs/stable/indexing.html#indexing-view-versus-copy\n",
            "  import sys\n"
          ],
          "name": "stderr"
        }
      ]
    },
    {
      "cell_type": "code",
      "metadata": {
        "id": "mxhd1S9gInTO",
        "colab_type": "code",
        "colab": {
          "base_uri": "https://localhost:8080/",
          "height": 219
        },
        "outputId": "ffe015a0-ff07-4323-ac61-0ee53c28ba7c"
      },
      "source": [
        "loans.head()"
      ],
      "execution_count": 13,
      "outputs": [
        {
          "output_type": "execute_result",
          "data": {
            "text/html": [
              "<div>\n",
              "<style scoped>\n",
              "    .dataframe tbody tr th:only-of-type {\n",
              "        vertical-align: middle;\n",
              "    }\n",
              "\n",
              "    .dataframe tbody tr th {\n",
              "        vertical-align: top;\n",
              "    }\n",
              "\n",
              "    .dataframe thead th {\n",
              "        text-align: right;\n",
              "    }\n",
              "</style>\n",
              "<table border=\"1\" class=\"dataframe\">\n",
              "  <thead>\n",
              "    <tr style=\"text-align: right;\">\n",
              "      <th></th>\n",
              "      <th>grade</th>\n",
              "      <th>sub_grade</th>\n",
              "      <th>short_emp</th>\n",
              "      <th>emp_length_num</th>\n",
              "      <th>home_ownership</th>\n",
              "      <th>dti</th>\n",
              "      <th>purpose</th>\n",
              "      <th>term</th>\n",
              "      <th>last_delinq_none</th>\n",
              "      <th>last_major_derog_none</th>\n",
              "      <th>revol_util</th>\n",
              "      <th>total_rec_late_fee</th>\n",
              "      <th>safe_loan</th>\n",
              "    </tr>\n",
              "  </thead>\n",
              "  <tbody>\n",
              "    <tr>\n",
              "      <th>0</th>\n",
              "      <td>1</td>\n",
              "      <td>6</td>\n",
              "      <td>0</td>\n",
              "      <td>11</td>\n",
              "      <td>3</td>\n",
              "      <td>27.65</td>\n",
              "      <td>1</td>\n",
              "      <td>0</td>\n",
              "      <td>1</td>\n",
              "      <td>1</td>\n",
              "      <td>83.7</td>\n",
              "      <td>0.00</td>\n",
              "      <td>1</td>\n",
              "    </tr>\n",
              "    <tr>\n",
              "      <th>1</th>\n",
              "      <td>2</td>\n",
              "      <td>13</td>\n",
              "      <td>1</td>\n",
              "      <td>1</td>\n",
              "      <td>3</td>\n",
              "      <td>1.00</td>\n",
              "      <td>0</td>\n",
              "      <td>1</td>\n",
              "      <td>1</td>\n",
              "      <td>1</td>\n",
              "      <td>9.4</td>\n",
              "      <td>0.00</td>\n",
              "      <td>-1</td>\n",
              "    </tr>\n",
              "    <tr>\n",
              "      <th>2</th>\n",
              "      <td>2</td>\n",
              "      <td>14</td>\n",
              "      <td>0</td>\n",
              "      <td>11</td>\n",
              "      <td>3</td>\n",
              "      <td>8.72</td>\n",
              "      <td>9</td>\n",
              "      <td>0</td>\n",
              "      <td>1</td>\n",
              "      <td>1</td>\n",
              "      <td>98.5</td>\n",
              "      <td>0.00</td>\n",
              "      <td>1</td>\n",
              "    </tr>\n",
              "    <tr>\n",
              "      <th>3</th>\n",
              "      <td>2</td>\n",
              "      <td>10</td>\n",
              "      <td>0</td>\n",
              "      <td>11</td>\n",
              "      <td>3</td>\n",
              "      <td>20.00</td>\n",
              "      <td>8</td>\n",
              "      <td>0</td>\n",
              "      <td>0</td>\n",
              "      <td>1</td>\n",
              "      <td>21.0</td>\n",
              "      <td>16.97</td>\n",
              "      <td>1</td>\n",
              "    </tr>\n",
              "    <tr>\n",
              "      <th>4</th>\n",
              "      <td>0</td>\n",
              "      <td>3</td>\n",
              "      <td>0</td>\n",
              "      <td>4</td>\n",
              "      <td>3</td>\n",
              "      <td>11.20</td>\n",
              "      <td>11</td>\n",
              "      <td>0</td>\n",
              "      <td>1</td>\n",
              "      <td>1</td>\n",
              "      <td>28.3</td>\n",
              "      <td>0.00</td>\n",
              "      <td>1</td>\n",
              "    </tr>\n",
              "  </tbody>\n",
              "</table>\n",
              "</div>"
            ],
            "text/plain": [
              "   grade  sub_grade  short_emp  ...  revol_util  total_rec_late_fee  safe_loan\n",
              "0      1          6          0  ...        83.7                0.00          1\n",
              "1      2         13          1  ...         9.4                0.00         -1\n",
              "2      2         14          0  ...        98.5                0.00          1\n",
              "3      2         10          0  ...        21.0               16.97          1\n",
              "4      0          3          0  ...        28.3                0.00          1\n",
              "\n",
              "[5 rows x 13 columns]"
            ]
          },
          "metadata": {
            "tags": []
          },
          "execution_count": 13
        }
      ]
    },
    {
      "cell_type": "markdown",
      "metadata": {
        "id": "flmWQ7w9Slpk",
        "colab_type": "text"
      },
      "source": [
        "We shall drop categorical columns after encoding"
      ]
    },
    {
      "cell_type": "code",
      "metadata": {
        "id": "u-K9mb9wSkpg",
        "colab_type": "code",
        "colab": {
          "base_uri": "https://localhost:8080/",
          "height": 34
        },
        "outputId": "0d2c2a4f-ff69-403a-fc58-593c9080d408"
      },
      "source": [
        "\"\"\"\n",
        "\n",
        "\n",
        "loans = loans.drop(columns=categorical_cols, axis=1)\n",
        "\n",
        "loans.head()\n",
        "\n",
        "\"\"\""
      ],
      "execution_count": 14,
      "outputs": [
        {
          "output_type": "execute_result",
          "data": {
            "text/plain": [
              "'\\n\\n\\nloans = loans.drop(columns=categorical_cols, axis=1)\\n\\nloans.head()\\n\\n'"
            ]
          },
          "metadata": {
            "tags": []
          },
          "execution_count": 14
        }
      ]
    },
    {
      "cell_type": "markdown",
      "metadata": {
        "id": "yNeZPvphVX74",
        "colab_type": "text"
      },
      "source": [
        "Encoded columns have **_le** as suffix. They look inconvenient. We shall take out **_le** at the end of column's name so that it is named as before"
      ]
    },
    {
      "cell_type": "code",
      "metadata": {
        "id": "XZWBWdfvBo1U",
        "colab_type": "code",
        "colab": {
          "base_uri": "https://localhost:8080/",
          "height": 34
        },
        "outputId": "5abc5360-9fc4-48a9-d618-c3169980c9b4"
      },
      "source": [
        "\"\"\"\n",
        "\n",
        "loans.columns = loans.columns.str.replace('_le', '')\n",
        "\n",
        "loans.columns\n",
        "\n",
        "\"\"\""
      ],
      "execution_count": 15,
      "outputs": [
        {
          "output_type": "execute_result",
          "data": {
            "text/plain": [
              "\"\\n\\nloans.columns = loans.columns.str.replace('_le', '')\\n\\nloans.columns\\n\\n\""
            ]
          },
          "metadata": {
            "tags": []
          },
          "execution_count": 15
        }
      ]
    },
    {
      "cell_type": "code",
      "metadata": {
        "id": "ceFlGHT_J7Gx",
        "colab_type": "code",
        "colab": {
          "base_uri": "https://localhost:8080/",
          "height": 122
        },
        "outputId": "d5386697-3342-4fdc-d296-631f9d4f267c"
      },
      "source": [
        "safe_loans_raw = loans[loans[target] == 1]\n",
        "risky_loans_raw = loans[loans[target] == -1]\n",
        "\n",
        "print (\"Number of safe loans  : {}\".format(len(safe_loans_raw)))\n",
        "print (\"Percentage of safe loans  : %.2f  \" % (len(safe_loans_raw)/len(loans)*100) )\n",
        "\n",
        "print (\"\\n\")\n",
        "print (\"Number of risky loans : {}\".format(len(risky_loans_raw)))\n",
        "print (\"Percentage of risky loans : %.2f \" % (len(risky_loans_raw)/len(loans)*100) )\n"
      ],
      "execution_count": 16,
      "outputs": [
        {
          "output_type": "stream",
          "text": [
            "Number of safe loans  : 99457\n",
            "Percentage of safe loans  : 81.12  \n",
            "\n",
            "\n",
            "Number of risky loans : 23150\n",
            "Percentage of risky loans : 18.88 \n"
          ],
          "name": "stdout"
        }
      ]
    },
    {
      "cell_type": "markdown",
      "metadata": {
        "id": "4pGSkgupZ7w_",
        "colab_type": "text"
      },
      "source": [
        "**Sample data to balance classes**\n",
        "\n",
        "As we explored above, our data is disproportionally full of safe loans. Let's create two datasets: one with just the safe loans (safe_loans_raw) and one with just the risky loans (risky_loans_raw). \n",
        "\n",
        "One way to combat class imbalance is to **undersample** the larger class until the class distribution is approximately half and half. Here, we will **undersample** the larger class (safe loans) in order to balance out our dataset. This means we are throwing away many data points"
      ]
    },
    {
      "cell_type": "code",
      "metadata": {
        "id": "ZR_2OjuTaFM-",
        "colab_type": "code",
        "colab": {
          "base_uri": "https://localhost:8080/",
          "height": 310
        },
        "outputId": "9c3ce5b3-8227-4626-dd91-98f6a5c9440f"
      },
      "source": [
        "# Since there are fewer risky loans than safe loans, find the ratio of the sizes\n",
        "# and use that percentage to undersample the safe loans.\n",
        "percentage = len(risky_loans_raw)/float(len(safe_loans_raw))\n",
        "\n",
        "risky_loans = risky_loans_raw\n",
        "safe_loans = safe_loans_raw.sample(frac=percentage, random_state=1)\n",
        "\n",
        "# Append the risky_loans with the downsampled version of safe_loans\n",
        "loans_undersampling = risky_loans.append(safe_loans)\n",
        "\n",
        "loans_undersampling.describe()"
      ],
      "execution_count": 17,
      "outputs": [
        {
          "output_type": "execute_result",
          "data": {
            "text/html": [
              "<div>\n",
              "<style scoped>\n",
              "    .dataframe tbody tr th:only-of-type {\n",
              "        vertical-align: middle;\n",
              "    }\n",
              "\n",
              "    .dataframe tbody tr th {\n",
              "        vertical-align: top;\n",
              "    }\n",
              "\n",
              "    .dataframe thead th {\n",
              "        text-align: right;\n",
              "    }\n",
              "</style>\n",
              "<table border=\"1\" class=\"dataframe\">\n",
              "  <thead>\n",
              "    <tr style=\"text-align: right;\">\n",
              "      <th></th>\n",
              "      <th>grade</th>\n",
              "      <th>sub_grade</th>\n",
              "      <th>short_emp</th>\n",
              "      <th>emp_length_num</th>\n",
              "      <th>home_ownership</th>\n",
              "      <th>dti</th>\n",
              "      <th>purpose</th>\n",
              "      <th>term</th>\n",
              "      <th>last_delinq_none</th>\n",
              "      <th>last_major_derog_none</th>\n",
              "      <th>revol_util</th>\n",
              "      <th>total_rec_late_fee</th>\n",
              "      <th>safe_loan</th>\n",
              "    </tr>\n",
              "  </thead>\n",
              "  <tbody>\n",
              "    <tr>\n",
              "      <th>count</th>\n",
              "      <td>46300.000000</td>\n",
              "      <td>46300.000000</td>\n",
              "      <td>46300.000000</td>\n",
              "      <td>46300.000000</td>\n",
              "      <td>46300.000000</td>\n",
              "      <td>46300.000000</td>\n",
              "      <td>46300.000000</td>\n",
              "      <td>46300.000000</td>\n",
              "      <td>46300.000000</td>\n",
              "      <td>46300.000000</td>\n",
              "      <td>46300.000000</td>\n",
              "      <td>46300.000000</td>\n",
              "      <td>46300.000000</td>\n",
              "    </tr>\n",
              "    <tr>\n",
              "      <th>mean</th>\n",
              "      <td>2.000626</td>\n",
              "      <td>12.001793</td>\n",
              "      <td>0.129546</td>\n",
              "      <td>6.345248</td>\n",
              "      <td>1.525724</td>\n",
              "      <td>16.112822</td>\n",
              "      <td>2.933909</td>\n",
              "      <td>0.252073</td>\n",
              "      <td>0.588920</td>\n",
              "      <td>0.875529</td>\n",
              "      <td>55.814679</td>\n",
              "      <td>1.292939</td>\n",
              "      <td>0.000000</td>\n",
              "    </tr>\n",
              "    <tr>\n",
              "      <th>std</th>\n",
              "      <td>1.414832</td>\n",
              "      <td>6.992884</td>\n",
              "      <td>0.335807</td>\n",
              "      <td>3.754578</td>\n",
              "      <td>1.441999</td>\n",
              "      <td>7.592555</td>\n",
              "      <td>2.468216</td>\n",
              "      <td>0.434208</td>\n",
              "      <td>0.492035</td>\n",
              "      <td>0.330122</td>\n",
              "      <td>25.419163</td>\n",
              "      <td>7.025748</td>\n",
              "      <td>1.000011</td>\n",
              "    </tr>\n",
              "    <tr>\n",
              "      <th>min</th>\n",
              "      <td>0.000000</td>\n",
              "      <td>0.000000</td>\n",
              "      <td>0.000000</td>\n",
              "      <td>0.000000</td>\n",
              "      <td>0.000000</td>\n",
              "      <td>0.000000</td>\n",
              "      <td>0.000000</td>\n",
              "      <td>0.000000</td>\n",
              "      <td>0.000000</td>\n",
              "      <td>0.000000</td>\n",
              "      <td>0.000000</td>\n",
              "      <td>0.000000</td>\n",
              "      <td>-1.000000</td>\n",
              "    </tr>\n",
              "    <tr>\n",
              "      <th>25%</th>\n",
              "      <td>1.000000</td>\n",
              "      <td>7.000000</td>\n",
              "      <td>0.000000</td>\n",
              "      <td>3.000000</td>\n",
              "      <td>0.000000</td>\n",
              "      <td>10.500000</td>\n",
              "      <td>2.000000</td>\n",
              "      <td>0.000000</td>\n",
              "      <td>0.000000</td>\n",
              "      <td>1.000000</td>\n",
              "      <td>37.500000</td>\n",
              "      <td>0.000000</td>\n",
              "      <td>-1.000000</td>\n",
              "    </tr>\n",
              "    <tr>\n",
              "      <th>50%</th>\n",
              "      <td>2.000000</td>\n",
              "      <td>11.000000</td>\n",
              "      <td>0.000000</td>\n",
              "      <td>6.000000</td>\n",
              "      <td>2.000000</td>\n",
              "      <td>16.000000</td>\n",
              "      <td>2.000000</td>\n",
              "      <td>0.000000</td>\n",
              "      <td>1.000000</td>\n",
              "      <td>1.000000</td>\n",
              "      <td>58.100000</td>\n",
              "      <td>0.000000</td>\n",
              "      <td>0.000000</td>\n",
              "    </tr>\n",
              "    <tr>\n",
              "      <th>75%</th>\n",
              "      <td>3.000000</td>\n",
              "      <td>16.000000</td>\n",
              "      <td>0.000000</td>\n",
              "      <td>11.000000</td>\n",
              "      <td>3.000000</td>\n",
              "      <td>21.560000</td>\n",
              "      <td>3.000000</td>\n",
              "      <td>1.000000</td>\n",
              "      <td>1.000000</td>\n",
              "      <td>1.000000</td>\n",
              "      <td>76.200000</td>\n",
              "      <td>0.000000</td>\n",
              "      <td>1.000000</td>\n",
              "    </tr>\n",
              "    <tr>\n",
              "      <th>max</th>\n",
              "      <td>6.000000</td>\n",
              "      <td>34.000000</td>\n",
              "      <td>1.000000</td>\n",
              "      <td>11.000000</td>\n",
              "      <td>3.000000</td>\n",
              "      <td>38.600000</td>\n",
              "      <td>11.000000</td>\n",
              "      <td>1.000000</td>\n",
              "      <td>1.000000</td>\n",
              "      <td>1.000000</td>\n",
              "      <td>150.700000</td>\n",
              "      <td>208.820000</td>\n",
              "      <td>1.000000</td>\n",
              "    </tr>\n",
              "  </tbody>\n",
              "</table>\n",
              "</div>"
            ],
            "text/plain": [
              "              grade     sub_grade  ...  total_rec_late_fee     safe_loan\n",
              "count  46300.000000  46300.000000  ...        46300.000000  46300.000000\n",
              "mean       2.000626     12.001793  ...            1.292939      0.000000\n",
              "std        1.414832      6.992884  ...            7.025748      1.000011\n",
              "min        0.000000      0.000000  ...            0.000000     -1.000000\n",
              "25%        1.000000      7.000000  ...            0.000000     -1.000000\n",
              "50%        2.000000     11.000000  ...            0.000000      0.000000\n",
              "75%        3.000000     16.000000  ...            0.000000      1.000000\n",
              "max        6.000000     34.000000  ...          208.820000      1.000000\n",
              "\n",
              "[8 rows x 13 columns]"
            ]
          },
          "metadata": {
            "tags": []
          },
          "execution_count": 17
        }
      ]
    },
    {
      "cell_type": "markdown",
      "metadata": {
        "id": "ScXGhJtAbMXj",
        "colab_type": "text"
      },
      "source": [
        "Now that loans_data is comprised of approximately 50% safe loans and 50% risky loans."
      ]
    },
    {
      "cell_type": "code",
      "metadata": {
        "id": "9FfWhgY9bPps",
        "colab_type": "code",
        "colab": {
          "base_uri": "https://localhost:8080/",
          "height": 70
        },
        "outputId": "bf3f843e-632b-494c-e273-fae1d36249af"
      },
      "source": [
        "loans_undersampling['safe_loan'].value_counts()"
      ],
      "execution_count": 18,
      "outputs": [
        {
          "output_type": "execute_result",
          "data": {
            "text/plain": [
              "-1    23150\n",
              " 1    23150\n",
              "Name: safe_loan, dtype: int64"
            ]
          },
          "metadata": {
            "tags": []
          },
          "execution_count": 18
        }
      ]
    },
    {
      "cell_type": "markdown",
      "metadata": {
        "id": "-7FPdiSsbnI8",
        "colab_type": "text"
      },
      "source": [
        "**Split data into training and validation**\n",
        "\n",
        "We split the data into training and validation sets using an 80/20 split and specifying seed=1 so everyone gets the same results. Call the training and validation sets train_data and validation_data, respectively."
      ]
    },
    {
      "cell_type": "code",
      "metadata": {
        "id": "5wbBEl7tbq_e",
        "colab_type": "code",
        "colab": {
          "base_uri": "https://localhost:8080/",
          "height": 52
        },
        "outputId": "f2003359-54b7-4f44-cabc-1e094cfd09eb"
      },
      "source": [
        "from sklearn.model_selection import train_test_split\n",
        "\n",
        "train_data, validation_data =  train_test_split(loans_undersampling, test_size=0.2)\n",
        "\n",
        "print(train_data.shape)\n",
        "\n",
        "print(validation_data.shape)\n",
        "\n",
        "x_train = train_data[features]\n",
        "y_train = train_data[target]\n",
        "\n",
        "x_val = validation_data[features]\n",
        "y_val = validation_data[target]"
      ],
      "execution_count": 19,
      "outputs": [
        {
          "output_type": "stream",
          "text": [
            "(37040, 13)\n",
            "(9260, 13)\n"
          ],
          "name": "stdout"
        }
      ]
    },
    {
      "cell_type": "markdown",
      "metadata": {
        "id": "ve3AeozqSq0m",
        "colab_type": "text"
      },
      "source": [
        "**Use decision tree in scikit-learn to build a classifier**. \n",
        "\n",
        "- We use the default parameters at first and use gridsearch to find the best parameters later.\n",
        "- Evaluate classifier with **accuracy score, precision,  recall and F1 score**\n",
        "\n"
      ]
    },
    {
      "cell_type": "code",
      "metadata": {
        "id": "o3vYOswoU5VX",
        "colab_type": "code",
        "colab": {
          "base_uri": "https://localhost:8080/",
          "height": 175
        },
        "outputId": "e5add6a9-7878-4ea6-db39-a8e49d064cf5"
      },
      "source": [
        "from sklearn.model_selection import cross_val_score\n",
        "from sklearn.tree import DecisionTreeClassifier\n",
        "import numpy as np\n",
        "from sklearn.metrics import classification_report\n",
        "\n",
        "clf = DecisionTreeClassifier()\n",
        "clf.fit(x_train, y_train)\n",
        "\n",
        "y_pred = clf.predict(x_val)\n",
        "\n",
        "print(classification_report(y_val, y_pred))\n"
      ],
      "execution_count": 20,
      "outputs": [
        {
          "output_type": "stream",
          "text": [
            "              precision    recall  f1-score   support\n",
            "\n",
            "          -1       0.56      0.55      0.56      4686\n",
            "           1       0.55      0.56      0.55      4574\n",
            "\n",
            "    accuracy                           0.56      9260\n",
            "   macro avg       0.56      0.56      0.56      9260\n",
            "weighted avg       0.56      0.56      0.56      9260\n",
            "\n"
          ],
          "name": "stdout"
        }
      ]
    },
    {
      "cell_type": "markdown",
      "metadata": {
        "id": "E9w6I1tXW0jc",
        "colab_type": "text"
      },
      "source": [
        "- The accuracy score is not very high, just average. \n",
        "- Precision: Fraction of risky predictions that are actually risky is 0.56 meanwhile the fraction of safe predictions that are actually safe is 0.55\n",
        "- Recall: Fraction of risky data predicted to be risky is 0.5 and fraction of safe data predicted to be safe is 0.5\n",
        "\n",
        "- The model reaches the balance between precision and recall because we already applied undersample techinque before runing classifier. We will try to improve the metrics evaluation by tuning parameters with gridsearch and cross validation\n"
      ]
    },
    {
      "cell_type": "code",
      "metadata": {
        "id": "II7FznS2ZJCj",
        "colab_type": "code",
        "colab": {
          "base_uri": "https://localhost:8080/",
          "height": 333
        },
        "outputId": "4ef564b9-e875-4269-a276-532729ae1a0a"
      },
      "source": [
        "from sklearn.model_selection import GridSearchCV\n",
        "from time import time\n",
        "from sklearn import tree\n",
        "\n",
        "parameters = {'max_depth': [2, 5, 10, 20, 50, 100]\n",
        "             , 'max_features' : ['auto', 'sqrt', 'log2']\n",
        "             , 'class_weight' : ['balanced', None]\n",
        "             , 'criterion' : ['entropy', 'gini']\n",
        "             }\n",
        "\n",
        "\n",
        "tune_clf_paramer = GridSearchCV(estimator=DecisionTreeClassifier()\n",
        "                   , param_grid = parameters\n",
        "                   , cv=5\n",
        "                   , n_jobs=-1)\n",
        "\n",
        "\n",
        "tune_clf_paramer.fit(x_train, y_train)\n",
        "\n",
        "\n",
        "\n",
        "y_pred = tune_clf_paramer.predict(x_val)\n",
        "\n",
        "print (\"best estimator: {}\".format(tune_clf_paramer.best_estimator_))\n",
        "\n",
        "print('best parameters: {}'.format(tune_clf_paramer.best_params_))\n",
        "\n",
        "print(\"best core: {}\".format(tune_clf_paramer.best_score_))\n",
        "\n",
        "print(\"classification report:\")\n",
        "\n",
        "print(classification_report(y_val, y_pred))\n",
        "\n",
        "\n"
      ],
      "execution_count": 21,
      "outputs": [
        {
          "output_type": "stream",
          "text": [
            "best estimator: DecisionTreeClassifier(class_weight=None, criterion='entropy', max_depth=10,\n",
            "                       max_features='auto', max_leaf_nodes=None,\n",
            "                       min_impurity_decrease=0.0, min_impurity_split=None,\n",
            "                       min_samples_leaf=1, min_samples_split=2,\n",
            "                       min_weight_fraction_leaf=0.0, presort=False,\n",
            "                       random_state=None, splitter='best')\n",
            "best parameters: {'class_weight': None, 'criterion': 'entropy', 'max_depth': 10, 'max_features': 'auto'}\n",
            "best core: 0.6265388768898488\n",
            "classification report:\n",
            "              precision    recall  f1-score   support\n",
            "\n",
            "          -1       0.62      0.65      0.64      4686\n",
            "           1       0.62      0.59      0.61      4574\n",
            "\n",
            "    accuracy                           0.62      9260\n",
            "   macro avg       0.62      0.62      0.62      9260\n",
            "weighted avg       0.62      0.62      0.62      9260\n",
            "\n"
          ],
          "name": "stdout"
        }
      ]
    },
    {
      "cell_type": "markdown",
      "metadata": {
        "id": "rFhRO_S8GRKX",
        "colab_type": "text"
      },
      "source": [
        "- Another method to deal with imbalanced dataset is **ensemble learning**. It combines the predictions of several base estimators built with a given learning algorithm in order to improve generalizability / robustness over a single estimator.\n",
        "\n",
        "- In this notebook, I try with **bagging** and **boosting** methods.\n",
        "\n",
        "- In scikit-learn, we use **BaggingClassifier** and **AdaBoosting** as an example of bagging and boosting method, respectively.\n",
        "\n",
        "- We will resplit train/set with unbalanced one and using the same metrics (accuracy score, precision call and F1-score) to evaluate model\n"
      ]
    },
    {
      "cell_type": "markdown",
      "metadata": {
        "id": "H-qPu8JENiJX",
        "colab_type": "text"
      },
      "source": [
        "1. Bagging classifier\n",
        "\n",
        "- A Bagging classifier is an ensemble meta-estimator that fits base classifiers each on random subsets of the original dataset and then aggregate their individual predictions (either by voting or by averaging) to form a final prediction\n",
        "\n",
        "- If we don't specify the estimator, BaggingClassifier will use Descision Tree Classifier as default\n",
        "\n",
        "- As usual, we build baseline model with default parameters, then, optimizing hyperparameters with gridsearch"
      ]
    },
    {
      "cell_type": "code",
      "metadata": {
        "id": "sYVKA_svMbgv",
        "colab_type": "code",
        "colab": {}
      },
      "source": [
        "loans_ensemble = loans\n",
        "\n",
        "train_data, validation_data = train_test_split(loans_ensemble, test_size=0.2, random_state=0)\n",
        "\n",
        "x_train = train_data[features]\n",
        "y_train = train_data[target]\n",
        "\n",
        "x_val = validation_data[features]\n",
        "y_val = validation_data[target]\n",
        "\n"
      ],
      "execution_count": 0,
      "outputs": []
    },
    {
      "cell_type": "code",
      "metadata": {
        "id": "sw3I69QTO8Qm",
        "colab_type": "code",
        "colab": {
          "base_uri": "https://localhost:8080/",
          "height": 175
        },
        "outputId": "b764a4dc-8a43-4fbe-b82b-f26583caf192"
      },
      "source": [
        "from sklearn.ensemble import BaggingClassifier\n",
        "\n",
        "bagging_clf = BaggingClassifier()\n",
        "\n",
        "bagging_clf.fit(x_train, y_train)\n",
        "y_pred = bagging_clf.predict(x_val)\n",
        "\n",
        "print(classification_report(y_val, y_pred))\n",
        "\n"
      ],
      "execution_count": 23,
      "outputs": [
        {
          "output_type": "stream",
          "text": [
            "              precision    recall  f1-score   support\n",
            "\n",
            "          -1       0.34      0.21      0.26      4577\n",
            "           1       0.83      0.90      0.87     19945\n",
            "\n",
            "    accuracy                           0.77     24522\n",
            "   macro avg       0.58      0.56      0.56     24522\n",
            "weighted avg       0.74      0.77      0.75     24522\n",
            "\n"
          ],
          "name": "stdout"
        }
      ]
    },
    {
      "cell_type": "code",
      "metadata": {
        "id": "ur3he6yMPkCO",
        "colab_type": "code",
        "colab": {
          "base_uri": "https://localhost:8080/",
          "height": 564
        },
        "outputId": "d82d218d-cf0b-4aae-ef6b-7f22b7595174"
      },
      "source": [
        "bagging_parameters = {'bootstrap' : [True, False]\n",
        "             , 'base_estimator__max_depth': [2, 5, 10, 20, 50, 100]\n",
        "             , 'base_estimator__max_features' : ['auto', 'sqrt', 'log2']\n",
        "             , 'base_estimator__class_weight' : ['balanced', None]\n",
        "             , 'base_estimator__criterion' : ['entropy', 'gini']\n",
        "             }\n",
        "\n",
        "\n",
        "tune_bagging_clf = GridSearchCV(BaggingClassifier(DecisionTreeClassifier())\n",
        "                   , param_grid = bagging_parameters\n",
        "                   , cv=5\n",
        "                   , n_jobs=-1)\n",
        "\n",
        "\n",
        "\n",
        "print(tune_bagging_clf.estimator.get_params().keys())\n",
        "\n",
        "\n",
        "tune_bagging_clf.fit(x_train, y_train)\n",
        "\n",
        "#dict_keys(['base_estimator__class_weight', 'base_estimator__criterion', 'base_estimator__max_depth', 'base_estimator__max_features', 'base_estimator__max_leaf_nodes', 'base_estimator__min_impurity_decrease', 'base_estimator__min_impurity_split', 'base_estimator__min_samples_leaf', 'base_estimator__min_samples_split', 'base_estimator__min_weight_fraction_leaf', 'base_estimator__presort', 'base_estimator__random_state', 'base_estimator__splitter', 'base_estimator', 'bootstrap', 'bootstrap_features', 'max_features', 'max_samples', 'n_estimators', 'n_jobs', 'oob_score', 'random_state', 'verbose', 'warm_start'])\n",
        "\n",
        "\n",
        "\n",
        "y_pred = tune_bagging_clf.predict(x_val)\n",
        "\n",
        "print (\"best estimator: {}\".format(tune_bagging_clf.best_estimator_))\n",
        "\n",
        "print('best parameters: {}'.format(tune_bagging_clf.best_params_))\n",
        "\n",
        "print(\"best core: {}\".format(tune_bagging_clf.best_score_))\n",
        "\n",
        "print(\"classification report:\")\n",
        "\n",
        "print(classification_report(y_val, y_pred))"
      ],
      "execution_count": 24,
      "outputs": [
        {
          "output_type": "stream",
          "text": [
            "dict_keys(['base_estimator__class_weight', 'base_estimator__criterion', 'base_estimator__max_depth', 'base_estimator__max_features', 'base_estimator__max_leaf_nodes', 'base_estimator__min_impurity_decrease', 'base_estimator__min_impurity_split', 'base_estimator__min_samples_leaf', 'base_estimator__min_samples_split', 'base_estimator__min_weight_fraction_leaf', 'base_estimator__presort', 'base_estimator__random_state', 'base_estimator__splitter', 'base_estimator', 'bootstrap', 'bootstrap_features', 'max_features', 'max_samples', 'n_estimators', 'n_jobs', 'oob_score', 'random_state', 'verbose', 'warm_start'])\n",
            "best estimator: BaggingClassifier(base_estimator=DecisionTreeClassifier(class_weight=None,\n",
            "                                                        criterion='gini',\n",
            "                                                        max_depth=10,\n",
            "                                                        max_features='auto',\n",
            "                                                        max_leaf_nodes=None,\n",
            "                                                        min_impurity_decrease=0.0,\n",
            "                                                        min_impurity_split=None,\n",
            "                                                        min_samples_leaf=1,\n",
            "                                                        min_samples_split=2,\n",
            "                                                        min_weight_fraction_leaf=0.0,\n",
            "                                                        presort=False,\n",
            "                                                        random_state=None,\n",
            "                                                        splitter='best'),\n",
            "                  bootstrap=False, bootstrap_features=False, max_features=1.0,\n",
            "                  max_samples=1.0, n_estimators=10, n_jobs=None,\n",
            "                  oob_score=False, random_state=None, verbose=0,\n",
            "                  warm_start=False)\n",
            "best parameters: {'base_estimator__class_weight': None, 'base_estimator__criterion': 'gini', 'base_estimator__max_depth': 10, 'base_estimator__max_features': 'auto', 'bootstrap': False}\n",
            "best core: 0.8148238772493246\n",
            "classification report:\n",
            "              precision    recall  f1-score   support\n",
            "\n",
            "          -1       0.56      0.05      0.10      4577\n",
            "           1       0.82      0.99      0.90     19945\n",
            "\n",
            "    accuracy                           0.82     24522\n",
            "   macro avg       0.69      0.52      0.50     24522\n",
            "weighted avg       0.77      0.82      0.75     24522\n",
            "\n"
          ],
          "name": "stdout"
        }
      ]
    },
    {
      "cell_type": "markdown",
      "metadata": {
        "id": "3-ZQCOE2XuPW",
        "colab_type": "text"
      },
      "source": [
        "2. Boosting\n",
        "\n",
        "- In boosting methods, base estimators are built sequentially and one tries to reduce the bias of the combined estimator. The motivation is to combine several weak models to produce a powerful ensemble\n",
        "\n",
        "- This idea is implemented in **AdaBoostClassifier** in scikit-learn\n",
        "\n",
        "- We start with baseline model and then try with more parameters"
      ]
    },
    {
      "cell_type": "code",
      "metadata": {
        "id": "w-FVRIuuPdIq",
        "colab_type": "code",
        "colab": {
          "base_uri": "https://localhost:8080/",
          "height": 175
        },
        "outputId": "34d1ac1f-a452-4584-d4d0-1d7cd8a97e01"
      },
      "source": [
        "from sklearn.ensemble import AdaBoostClassifier\n",
        "\n",
        "boost_clf = AdaBoostClassifier()\n",
        "\n",
        "boost_clf.fit(x_train, y_train)\n",
        "\n",
        "y_pred = boost_clf.predict(x_val)\n",
        "\n",
        "print(classification_report(y_val, y_pred))"
      ],
      "execution_count": 25,
      "outputs": [
        {
          "output_type": "stream",
          "text": [
            "              precision    recall  f1-score   support\n",
            "\n",
            "          -1       0.55      0.08      0.14      4577\n",
            "           1       0.82      0.99      0.90     19945\n",
            "\n",
            "    accuracy                           0.82     24522\n",
            "   macro avg       0.69      0.53      0.52     24522\n",
            "weighted avg       0.77      0.82      0.75     24522\n",
            "\n"
          ],
          "name": "stdout"
        }
      ]
    },
    {
      "cell_type": "code",
      "metadata": {
        "id": "_tZWZveQYz1H",
        "colab_type": "code",
        "colab": {
          "base_uri": "https://localhost:8080/",
          "height": 564
        },
        "outputId": "7bf7134e-17a6-4b92-9b3c-ce95680f1826"
      },
      "source": [
        "boost_parameters = {'learning_rate' : [0.01, 0.1, 1.0]   \n",
        "             , 'n_estimators' : [10, 50, 100]\n",
        "             , 'base_estimator__max_depth': [2, 5, 10, 20, 50, 100]\n",
        "             , 'base_estimator__max_features' : ['auto', 'sqrt', 'log2']\n",
        "             , 'base_estimator__class_weight' : ['balanced', None]\n",
        "             , 'base_estimator__criterion' : ['entropy', 'gini']\n",
        "             }\n",
        "\n",
        "\n",
        "tune_boost_clf = GridSearchCV(AdaBoostClassifier(DecisionTreeClassifier())\n",
        "                   , param_grid = boost_parameters\n",
        "                   , cv=5\n",
        "                   , n_jobs=-1)\n",
        "\n",
        "\n",
        "print(tune_boost_clf.estimator.get_params().keys())\n",
        "\n",
        "tune_boost_clf.fit(x_train, y_train)\n",
        "\n",
        "y_pred = tune_boost_clf.predict(x_val)\n",
        "\n",
        "print (\"best estimator: {}\".format(tune_boost_clf.best_estimator_))\n",
        "\n",
        "print('best parameters: {}'.format(tune_boost_clf.best_params_))\n",
        "\n",
        "print(\"best core: {}\".format(tune_boost_clf.best_score_))\n",
        "\n",
        "print(\"classification report:\")\n",
        "\n",
        "print(classification_report(y_val, y_pred))"
      ],
      "execution_count": 157,
      "outputs": [
        {
          "output_type": "stream",
          "text": [
            "dict_keys(['algorithm', 'base_estimator__class_weight', 'base_estimator__criterion', 'base_estimator__max_depth', 'base_estimator__max_features', 'base_estimator__max_leaf_nodes', 'base_estimator__min_impurity_decrease', 'base_estimator__min_impurity_split', 'base_estimator__min_samples_leaf', 'base_estimator__min_samples_split', 'base_estimator__min_weight_fraction_leaf', 'base_estimator__presort', 'base_estimator__random_state', 'base_estimator__splitter', 'base_estimator', 'learning_rate', 'n_estimators', 'random_state'])\n"
          ],
          "name": "stdout"
        },
        {
          "output_type": "stream",
          "text": [
            "/usr/local/lib/python3.6/dist-packages/joblib/externals/loky/process_executor.py:706: UserWarning: A worker stopped while some jobs were given to the executor. This can be caused by a too short worker timeout or by a memory leak.\n",
            "  \"timeout or by a memory leak.\", UserWarning\n"
          ],
          "name": "stderr"
        },
        {
          "output_type": "stream",
          "text": [
            "best estimator: AdaBoostClassifier(algorithm='SAMME.R',\n",
            "                   base_estimator=DecisionTreeClassifier(class_weight=None,\n",
            "                                                         criterion='entropy',\n",
            "                                                         max_depth=5,\n",
            "                                                         max_features='sqrt',\n",
            "                                                         max_leaf_nodes=None,\n",
            "                                                         min_impurity_decrease=0.0,\n",
            "                                                         min_impurity_split=None,\n",
            "                                                         min_samples_leaf=1,\n",
            "                                                         min_samples_split=2,\n",
            "                                                         min_weight_fraction_leaf=0.0,\n",
            "                                                         presort=False,\n",
            "                                                         random_state=None,\n",
            "                                                         splitter='best'),\n",
            "                   learning_rate=0.1, n_estimators=50, random_state=None)\n",
            "best parameters: {'base_estimator__class_weight': None, 'base_estimator__criterion': 'entropy', 'base_estimator__max_depth': 5, 'base_estimator__max_features': 'sqrt', 'learning_rate': 0.1, 'n_estimators': 50}\n",
            "best core: 0.8151909058469695\n",
            "classification report:\n",
            "              precision    recall  f1-score   support\n",
            "\n",
            "          -1       0.58      0.06      0.10      4577\n",
            "           1       0.82      0.99      0.90     19945\n",
            "\n",
            "    accuracy                           0.82     24522\n",
            "   macro avg       0.70      0.52      0.50     24522\n",
            "weighted avg       0.77      0.82      0.75     24522\n",
            "\n"
          ],
          "name": "stdout"
        }
      ]
    }
  ]
}